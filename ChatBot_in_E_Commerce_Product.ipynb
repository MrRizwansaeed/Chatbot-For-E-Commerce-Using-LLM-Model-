{
  "nbformat": 4,
  "nbformat_minor": 0,
  "metadata": {
    "colab": {
      "provenance": []
    },
    "kernelspec": {
      "name": "python3",
      "display_name": "Python 3"
    },
    "language_info": {
      "name": "python"
    }
  },
  "cells": [
    {
      "cell_type": "code",
      "execution_count": null,
      "metadata": {
        "colab": {
          "base_uri": "https://localhost:8080/"
        },
        "id": "PMdiZ1WmaGS_",
        "outputId": "ff96c989-d35d-4e30-e726-5a6ec83af9b5"
      },
      "outputs": [
        {
          "output_type": "stream",
          "name": "stdout",
          "text": [
            "Requirement already satisfied: transformers in /usr/local/lib/python3.10/dist-packages (4.34.0)\n",
            "Requirement already satisfied: filelock in /usr/local/lib/python3.10/dist-packages (from transformers) (3.12.4)\n",
            "Requirement already satisfied: huggingface-hub<1.0,>=0.16.4 in /usr/local/lib/python3.10/dist-packages (from transformers) (0.16.4)\n",
            "Requirement already satisfied: numpy>=1.17 in /usr/local/lib/python3.10/dist-packages (from transformers) (1.23.5)\n",
            "Requirement already satisfied: packaging>=20.0 in /usr/local/lib/python3.10/dist-packages (from transformers) (23.1)\n",
            "Requirement already satisfied: pyyaml>=5.1 in /usr/local/lib/python3.10/dist-packages (from transformers) (6.0.1)\n",
            "Requirement already satisfied: regex!=2019.12.17 in /usr/local/lib/python3.10/dist-packages (from transformers) (2023.6.3)\n",
            "Requirement already satisfied: requests in /usr/local/lib/python3.10/dist-packages (from transformers) (2.31.0)\n",
            "Requirement already satisfied: tokenizers<0.15,>=0.14 in /usr/local/lib/python3.10/dist-packages (from transformers) (0.14.0)\n",
            "Requirement already satisfied: safetensors>=0.3.1 in /usr/local/lib/python3.10/dist-packages (from transformers) (0.3.3)\n",
            "Requirement already satisfied: tqdm>=4.27 in /usr/local/lib/python3.10/dist-packages (from transformers) (4.66.1)\n",
            "Requirement already satisfied: fsspec in /usr/local/lib/python3.10/dist-packages (from huggingface-hub<1.0,>=0.16.4->transformers) (2023.6.0)\n",
            "Requirement already satisfied: typing-extensions>=3.7.4.3 in /usr/local/lib/python3.10/dist-packages (from huggingface-hub<1.0,>=0.16.4->transformers) (4.5.0)\n",
            "Requirement already satisfied: charset-normalizer<4,>=2 in /usr/local/lib/python3.10/dist-packages (from requests->transformers) (3.2.0)\n",
            "Requirement already satisfied: idna<4,>=2.5 in /usr/local/lib/python3.10/dist-packages (from requests->transformers) (3.4)\n",
            "Requirement already satisfied: urllib3<3,>=1.21.1 in /usr/local/lib/python3.10/dist-packages (from requests->transformers) (2.0.5)\n",
            "Requirement already satisfied: certifi>=2017.4.17 in /usr/local/lib/python3.10/dist-packages (from requests->transformers) (2023.7.22)\n"
          ]
        }
      ],
      "source": [
        "!pip install transformers\n"
      ]
    },
    {
      "cell_type": "code",
      "source": [
        "import pandas as pd\n",
        "from transformers import AutoModelForCausalLM, AutoTokenizer\n",
        "import io\n",
        "from PIL import Image\n",
        "import base64"
      ],
      "metadata": {
        "id": "tWhfVSOmnwBO"
      },
      "execution_count": null,
      "outputs": []
    },
    {
      "cell_type": "code",
      "source": [
        "import pandas as pd"
      ],
      "metadata": {
        "id": "hpFzAJnwoBLp"
      },
      "execution_count": null,
      "outputs": []
    },
    {
      "cell_type": "code",
      "source": [
        "import pandas as pd\n",
        "\n",
        "image_paths = [\n",
        "    'https://i.pinimg.com/originals/60/ad/86/60ad8627eb7eb880fcdd3b136b0239df.jpg',\n",
        "    'https://elcyda.com/wp-content/uploads/2017/11/Geneva_SS_Water_Bottle_32oz_RED_MC0139_RD.jpg',\n",
        "    'https://coolearthbottles.com/wp-content/uploads/2016/02/P1030117-769x1024.jpg',\n",
        "    'https://www.cornellstore.com/site/Product_images/1598992_media-01.jpg',\n",
        "    'https://n4.sdlcdn.com/imgs/a/3/c/Shopngift-Red-Metal-Water-Bottle-SDL243333394-1-77bb3.jpg',\n",
        "    'https://www.highesthonor.biz/wp-content/uploads/2019/11/water-bottle-blue.jpg',\n",
        "    'https://distributor.golding.eu/aluminium-water-bottle-400ml-cobalt-blue--7552-23--hd.jpg',\n",
        "    'https://prizepossessions.com/wp-content/uploads/2020/01/8530.jpg'\n",
        "]\n",
        "\n",
        "descriptions = [\n",
        "    'Red water bottle with black lid',\n",
        "    'Red water bottle with silver lid',\n",
        "    'Red water bottle with black and silver lid',\n",
        "    'Red water bottle with white lid',\n",
        "    'Red water bottle with plastic lid',\n",
        "    'Blue water bottle with black lid',\n",
        "    'Green water bottle with white lid',\n",
        "    'Blue water bottle with silver lid'\n",
        "]\n",
        "\n",
        "color_categories = {\n",
        "    \"red\": [],\n",
        "    \"blue\": [],\n",
        "    \"green\": [],\n",
        "\n",
        "}\n",
        "\n",
        "for img_path, description in zip(image_paths, descriptions):\n",
        "    if \"red\" in description.lower():\n",
        "        color_categories[\"red\"].append(img_path)\n",
        "    elif \"blue\" in description.lower():\n",
        "        color_categories[\"blue\"].append(img_path)\n",
        "    elif \"green\" in description.lower():\n",
        "        color_categories[\"green\"].append(img_path)\n",
        "\n",
        "\n",
        "color_labels = []\n",
        "for description in descriptions:\n",
        "    for color, images in color_categories.items():\n",
        "        if any(color in description.lower() for color in color_categories.keys()):\n",
        "            color_labels.append(color)\n",
        "            break\n",
        "\n",
        "data = {'Image': image_paths, 'Description': descriptions, 'Color': color_labels}\n",
        "df = pd.DataFrame(data)\n",
        "\n",
        "print(df)\n"
      ],
      "metadata": {
        "colab": {
          "base_uri": "https://localhost:8080/"
        },
        "id": "UbN-UAqddOwZ",
        "outputId": "e7e0c21b-9142-44e3-b247-f787773fbe32"
      },
      "execution_count": null,
      "outputs": [
        {
          "output_type": "stream",
          "name": "stdout",
          "text": [
            "                                               Image  \\\n",
            "0  https://i.pinimg.com/originals/60/ad/86/60ad86...   \n",
            "1  https://elcyda.com/wp-content/uploads/2017/11/...   \n",
            "2  https://coolearthbottles.com/wp-content/upload...   \n",
            "3  https://www.cornellstore.com/site/Product_imag...   \n",
            "4  https://n4.sdlcdn.com/imgs/a/3/c/Shopngift-Red...   \n",
            "5  https://www.highesthonor.biz/wp-content/upload...   \n",
            "6  https://distributor.golding.eu/aluminium-water...   \n",
            "7  https://prizepossessions.com/wp-content/upload...   \n",
            "\n",
            "                                  Description Color  \n",
            "0             Red water bottle with black lid   red  \n",
            "1            Red water bottle with silver lid   red  \n",
            "2  Red water bottle with black and silver lid   red  \n",
            "3             Red water bottle with white lid   red  \n",
            "4           Red water bottle with plastic lid   red  \n",
            "5            Blue water bottle with black lid   red  \n",
            "6           Green water bottle with white lid   red  \n",
            "7           Blue water bottle with silver lid   red  \n"
          ]
        }
      ]
    },
    {
      "cell_type": "code",
      "source": [
        "model = AutoModelForCausalLM.from_pretrained(\"distilgpt2\")\n",
        "tokenizer = AutoTokenizer.from_pretrained(\"distilgpt2\")\n"
      ],
      "metadata": {
        "id": "NHmSkVFSoDk0"
      },
      "execution_count": null,
      "outputs": []
    },
    {
      "cell_type": "code",
      "source": [
        "class Chatbot:\n",
        "    def __init__(self, model, tokenizer, df):\n",
        "        self.model = model\n",
        "        self.tokenizer = tokenizer\n",
        "        self.df = df\n",
        "\n",
        "    def generate_response(self, prompt):\n",
        "        input_ids = self.tokenizer(prompt, return_tensors=\"pt\").input_ids\n",
        "        outputs = self.model.generate(input_ids, max_length=1024)\n",
        "        response = self.tokenizer.decode(outputs[0], skip_special_tokens=True)\n",
        "        return response\n",
        "\n",
        "    def show_product_images(self, color):\n",
        "        filtered_df = self.df[self.df['Color'] == color.lower()]\n",
        "        if not filtered_df.empty:\n",
        "            image_urls = filtered_df['Image'].tolist()\n",
        "            return image_urls\n",
        "        else:\n",
        "            return []\n",
        "\n",
        "    def describe_product_image(self, image_url):\n",
        "        try:\n",
        "            image_description = self.df[self.df['Image'] == image_url]['Description'].values[0]\n",
        "            return image_description\n",
        "        except Exception as e:\n",
        "            print(e)\n",
        "            return \"I couldn't describe that image.\"\n",
        "\n",
        "    def chat_with_user(self):\n",
        "        while True:\n",
        "            user_input = input(\"What would you like to do? \")\n",
        "\n",
        "            if user_input == \"show images\":\n",
        "                color = input(\"What color water bottle images would you like to see? \").lower()\n",
        "                image_urls = self.show_product_images(color)\n",
        "                if image_urls:\n",
        "                    for url in image_urls:\n",
        "                        print(f\"Image URL: {url}\")\n",
        "                else:\n",
        "                    print(\"No matching images found for the given color.\")\n",
        "\n",
        "            elif user_input == \"describe image\":\n",
        "                image_url = input(\"Enter the URL of the image you would like to describe: \")\n",
        "                image_description = self.describe_product_image(image_url)\n",
        "                print(image_description)\n",
        "\n",
        "            elif user_input == \"exit\":\n",
        "                break\n",
        "\n",
        "            else:\n",
        "                response = self.generate_response(user_input)\n",
        "                print(response)\n"
      ],
      "metadata": {
        "id": "IjSowNwcoKe0"
      },
      "execution_count": null,
      "outputs": []
    },
    {
      "cell_type": "code",
      "source": [
        "chatbot = Chatbot(model, tokenizer, df)"
      ],
      "metadata": {
        "id": "-jovYOBMoSO_"
      },
      "execution_count": null,
      "outputs": []
    },
    {
      "cell_type": "code",
      "source": [
        "\n",
        "chatbot.chat_with_user()"
      ],
      "metadata": {
        "colab": {
          "base_uri": "https://localhost:8080/"
        },
        "id": "ArvKk-L_oXbI",
        "outputId": "5d999561-17d3-4865-a43b-be642702ba18"
      },
      "execution_count": null,
      "outputs": [
        {
          "name": "stdout",
          "output_type": "stream",
          "text": [
            "What would you like to do? show images\n",
            "What color water bottle images would you like to see? red\n",
            "Image URL: https://i.pinimg.com/originals/60/ad/86/60ad8627eb7eb880fcdd3b136b0239df.jpg\n",
            "Image URL: https://elcyda.com/wp-content/uploads/2017/11/Geneva_SS_Water_Bottle_32oz_RED_MC0139_RD.jpg\n",
            "Image URL: https://coolearthbottles.com/wp-content/uploads/2016/02/P1030117-769x1024.jpg\n",
            "Image URL: https://www.cornellstore.com/site/Product_images/1598992_media-01.jpg\n",
            "Image URL: https://n4.sdlcdn.com/imgs/a/3/c/Shopngift-Red-Metal-Water-Bottle-SDL243333394-1-77bb3.jpg\n",
            "Image URL: https://www.highesthonor.biz/wp-content/uploads/2019/11/water-bottle-blue.jpg\n",
            "Image URL: https://distributor.golding.eu/aluminium-water-bottle-400ml-cobalt-blue--7552-23--hd.jpg\n",
            "Image URL: https://prizepossessions.com/wp-content/uploads/2020/01/8530.jpg\n",
            "What would you like to do? describe image\n",
            "Enter the URL of the image you would like to describe: https://elcyda.com/wp-content/uploads/2017/11/Geneva_SS_Water_Bottle_32oz_RED_MC0139_RD.jpg\n",
            "Red water bottle with silver lid\n",
            "What would you like to do? exit\n"
          ]
        }
      ]
    },
    {
      "cell_type": "code",
      "source": [],
      "metadata": {
        "id": "M4PACFrEocT7"
      },
      "execution_count": null,
      "outputs": []
    }
  ]
}